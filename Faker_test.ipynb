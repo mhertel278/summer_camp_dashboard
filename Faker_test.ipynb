{
 "cells": [
  {
   "cell_type": "code",
   "execution_count": 11,
   "id": "707b55b0",
   "metadata": {},
   "outputs": [],
   "source": [
    "from faker import Faker\n",
    "import numpy as np\n",
    "import pandas as pd"
   ]
  },
  {
   "cell_type": "code",
   "execution_count": 2,
   "id": "7abbaa7b",
   "metadata": {},
   "outputs": [
    {
     "data": {
      "text/plain": [
       "'Barry Martinez'"
      ]
     },
     "execution_count": 2,
     "metadata": {},
     "output_type": "execute_result"
    }
   ],
   "source": [
    "fake = Faker()\n",
    "fake.name()"
   ]
  },
  {
   "cell_type": "code",
   "execution_count": 3,
   "id": "82c78cb9",
   "metadata": {},
   "outputs": [
    {
     "name": "stdout",
     "output_type": "stream",
     "text": [
      "['Laura Ramirez', 'William Alvarado', 'Kevin Day', 'Jill Thomas', 'Rachel Price', 'Michelle Wall', 'Monique Nunez', 'Jenna Mason', 'April Hill', 'Joseph Garcia', 'Patricia Underwood', 'Pamela Guzman', 'Randall Haynes', 'Ronald Wong', 'Benjamin Williams']\n"
     ]
    }
   ],
   "source": [
    "fake_names = [fake.name() for i in range(15)]\n",
    "print(fake_names)\n",
    "    "
   ]
  },
  {
   "cell_type": "code",
   "execution_count": 5,
   "id": "b830d73f",
   "metadata": {},
   "outputs": [
    {
     "name": "stdout",
     "output_type": "stream",
     "text": [
      "['Frey, Joe', 'Harris, Janice', 'Valencia, Kelly', 'Campbell, Crystal', 'Bartlett, Patricia', 'Hunter, Jill', 'Jensen, Amanda', 'Smith, Jessica', 'Gaines, Scott', 'Phillips, Allison', 'Olson, Amanda', 'Smith, Jean', 'Riggs, Destiny', 'Benson, Jonathan', 'Simmons, Beth']\n"
     ]
    }
   ],
   "source": [
    "# generate last, first name\n",
    "fake_full_names = [f'{fake.last_name()}, {fake.first_name()}' for i in range(15)]\n",
    "print(fake_full_names)"
   ]
  },
  {
   "cell_type": "code",
   "execution_count": 6,
   "id": "b93cd1d0",
   "metadata": {},
   "outputs": [
    {
     "name": "stdout",
     "output_type": "stream",
     "text": [
      "{'job': 'Optician, dispensing', 'company': 'Sullivan, Gilmore and Goodwin', 'ssn': '360-84-5780', 'residence': '7796 Townsend Roads\\nNorth Melinda, OR 01787', 'current_location': (Decimal('60.1638145'), Decimal('4.003218')), 'blood_group': 'A+', 'website': ['http://www.lyons.net/', 'http://martinez.com/', 'https://www.lewis.com/', 'https://www.richards.com/'], 'username': 'ywilson', 'name': 'Gary Werner', 'sex': 'M', 'address': '322 Robin Corner\\nBuckfurt, KY 30389', 'mail': 'xknight@yahoo.com', 'birthdate': datetime.date(2010, 4, 26)}\n",
      "{'job': 'Advertising copywriter', 'company': 'Gaines and Sons', 'ssn': '133-22-7551', 'residence': '220 Elliott Circle\\nCartertown, IN 89047', 'current_location': (Decimal('42.7157055'), Decimal('-62.380992')), 'blood_group': 'O-', 'website': ['http://jackson-jones.com/', 'http://www.moody.biz/', 'http://www.shields.net/'], 'username': 'andreacastro', 'name': 'Alexandria Parsons', 'sex': 'F', 'address': '27208 Ashley Mews Apt. 928\\nSouth Shawn, GU 70107', 'mail': 'masonangela@yahoo.com', 'birthdate': datetime.date(2001, 1, 27)}\n",
      "{'job': 'Environmental manager', 'company': 'Beck, Young and Chan', 'ssn': '781-41-4875', 'residence': '186 Cheryl Roads Suite 977\\nKellyton, AL 86626', 'current_location': (Decimal('-74.996203'), Decimal('-25.154325')), 'blood_group': 'O-', 'website': ['http://hughes.biz/'], 'username': 'tiffany39', 'name': 'Patrick Woods', 'sex': 'M', 'address': '7354 Jason Lodge Apt. 579\\nLivingstonside, OK 24344', 'mail': 'jeremyellis@hotmail.com', 'birthdate': datetime.date(1912, 11, 5)}\n",
      "{'job': 'Photographer', 'company': 'Day, Harris and Mccullough', 'ssn': '083-13-2952', 'residence': '09005 Thomas Field\\nBrentshire, KS 01470', 'current_location': (Decimal('59.481475'), Decimal('167.760648')), 'blood_group': 'A-', 'website': ['http://clarke.com/', 'https://www.reed.biz/'], 'username': 'braynicholas', 'name': 'Carla Reid', 'sex': 'F', 'address': '3832 Anthony Divide Suite 357\\nWest Frank, PR 53652', 'mail': 'robertcarroll@hotmail.com', 'birthdate': datetime.date(1967, 1, 22)}\n",
      "{'job': 'Warden/ranger', 'company': 'Ward-Ortiz', 'ssn': '301-01-5604', 'residence': '24721 Williams Pines\\nDavidmouth, AK 69845', 'current_location': (Decimal('-63.0771075'), Decimal('133.145343')), 'blood_group': 'B+', 'website': ['http://wolf.com/', 'https://garcia-knox.com/', 'https://fleming.org/', 'http://franklin-key.org/'], 'username': 'kristindorsey', 'name': 'David Morton', 'sex': 'M', 'address': '398 Lindsey Lake Apt. 287\\nDennisstad, PW 93260', 'mail': 'tiffany78@hotmail.com', 'birthdate': datetime.date(1921, 11, 8)}\n"
     ]
    }
   ],
   "source": [
    "# generate fake profiles\n",
    "for i in range(5):\n",
    "    print(fake.profile())"
   ]
  },
  {
   "cell_type": "code",
   "execution_count": 7,
   "id": "649e8325",
   "metadata": {},
   "outputs": [
    {
     "data": {
      "text/plain": [
       "{'job': 'Database administrator',\n",
       " 'company': 'Mccoy-Mcgrath',\n",
       " 'ssn': '602-20-1123',\n",
       " 'residence': '6876 Jackson Manor\\nAlejandramouth, ND 18262',\n",
       " 'current_location': (Decimal('-48.814855'), Decimal('-105.867419')),\n",
       " 'blood_group': 'AB-',\n",
       " 'website': ['http://anderson.biz/', 'http://armstrong.biz/'],\n",
       " 'username': 'williamsbryan',\n",
       " 'name': 'Charles Blair',\n",
       " 'sex': 'M',\n",
       " 'address': 'PSC 4741, Box 2596\\nAPO AE 59369',\n",
       " 'mail': 'sarah89@hotmail.com',\n",
       " 'birthdate': datetime.date(1984, 11, 26)}"
      ]
     },
     "execution_count": 7,
     "metadata": {},
     "output_type": "execute_result"
    }
   ],
   "source": [
    "fake.profile()"
   ]
  },
  {
   "cell_type": "code",
   "execution_count": 11,
   "id": "87dc13d0",
   "metadata": {},
   "outputs": [
    {
     "name": "stdout",
     "output_type": "stream",
     "text": [
      "\"Richard, Katherine\",\"764 Howard Forge Apt. 421\n",
      "Vanessaside, VT 79393\"\r\n",
      "\"Barrera, Kyle\",\"8156 Carr Ford Suite 784\n",
      "Port Samanthatown, CO 94834\"\r\n",
      "\"Larsen, Jennifer\",\"753 Padilla Circles\n",
      "New Jeffrey, AS 19178\"\r\n",
      "\"Pratt, Seth\",\"714 Mann Plaza Suite 839\n",
      "Seanfurt, MD 75952\"\r\n",
      "\"Allen, Ivan\",\"471 Erika Curve\n",
      "North Megan, MH 92162\"\r\n",
      "\"Leblanc, Amber\",\"339 Riley Mission Suite 515\n",
      "South Brendamouth, PR 25454\"\r\n",
      "\"Sanchez, Jessica\",\"2560 Krista Walk\n",
      "North Lisa, SC 70519\"\r\n",
      "\"Guzman, Charles\",\"916 Mitchell Crescent\n",
      "New Andrewburgh, VT 16740\"\r\n",
      "\"Mendoza, Jessica\",\"691 Jones Cliffs\n",
      "Michaelburgh, AR 66513\"\r\n",
      "\"Mcdonald, Candace\",\"45792 Tammy Centers Apt. 258\n",
      "Davidmouth, TN 23414\"\r\n",
      "\n",
      "\"Smith, Erin\",\"PSC 8456, Box 4280\n",
      "APO AA 97700\"\r\n",
      "\"Miller, Joanne\",\"75945 Jennifer Loaf\n",
      "Pooleland, AL 78433\"\r\n",
      "\"Lee, Matthew\",\"9606 Barton Station Apt. 271\n",
      "Jacquelinemouth, NC 64367\"\r\n",
      "\"Odonnell, Cassandra\",\"5470 Lopez Roads\n",
      "Port Jessicatown, MO 89435\"\r\n",
      "\"Butler, Aaron\",\"891 David Run\n",
      "Port Kevin, UT 24385\"\r\n",
      "\"Garcia, Melissa\",\"47142 Wilson Drives\n",
      "Melissaton, AZ 27467\"\r\n",
      "\"Becker, Angela\",\"USS Mathis\n",
      "FPO AP 80139\"\r\n",
      "\"Rios, Jennifer\",\"PSC 6582, Box 3694\n",
      "APO AE 18648\"\r\n",
      "\"Hernandez, Mathew\",\"9004 Edward Prairie\n",
      "Michaelside, DC 38958\"\r\n",
      "\"Wilson, Jessica\",\"USNV White\n",
      "FPO AP 96008\"\r\n",
      "\n",
      "\"Jones, Richard\",\"18775 Martinez Crescent Suite 604\n",
      "Jessicaberg, PW 22331\"\r\n",
      "\"Sims, Nicholas\",\"Unit 1113 Box 3060\n",
      "DPO AE 52118\"\r\n",
      "\"Hawkins, Keith\",\"PSC 9361, Box 5349\n",
      "APO AE 57022\"\r\n",
      "\"Lee, Danny\",\"731 Sanders Fords\n",
      "Port Jasonberg, CT 26449\"\r\n",
      "\"Ellis, Michael\",\"729 Little Manors\n",
      "Sheltonmouth, MP 65832\"\r\n",
      "\"Bolton, Cynthia\",\"55508 Nancy Rapids\n",
      "Port Nicholas, LA 94627\"\r\n",
      "\"Mccarthy, Thomas\",\"32040 Rivera Estates\n",
      "Port Diana, MN 66692\"\r\n",
      "\"Reyes, Alyssa\",\"891 Bullock Ford\n",
      "Amandachester, GU 63705\"\r\n",
      "\"Bruce, Teresa\",\"02489 Cook Park\n",
      "Sherriport, WI 53987\"\r\n",
      "\"Cruz, Patrick\",\"45007 Thomas Way\n",
      "Lake Hollystad, MT 05112\"\r\n",
      "\n",
      "\"Carr, Paul\",\"00992 Garcia Plaza Suite 367\n",
      "North Chelseamouth, RI 83379\"\r\n",
      "\"Peck, Debra\",\"Unit 9426 Box 4183\n",
      "DPO AE 51884\"\r\n",
      "\"Wallace, Katherine\",\"07408 Jerry Trail\n",
      "Hunterville, FL 56333\"\r\n",
      "\"Snow, Robert\",\"1162 Lacey Meadows\n",
      "Johnsonmouth, VA 33607\"\r\n",
      "\"Miller, Chad\",\"5203 Jones Divide\n",
      "North Jamie, TX 96459\"\r\n",
      "\"Mays, David\",\"093 Jacob Creek Suite 542\n",
      "East Michaelfort, LA 39343\"\r\n",
      "\"Giles, Susan\",\"118 Moore Drive\n",
      "Port Jeffrey, NY 32330\"\r\n",
      "\"Young, Ivan\",\"90611 Robert Plaza\n",
      "Yangberg, OR 55838\"\r\n",
      "\"Evans, Michael\",\"806 Smith Stream Suite 735\n",
      "Stephanieland, HI 14737\"\r\n",
      "\"Hill, Angela\",\"2662 Susan Junctions Apt. 571\n",
      "Fischerport, AL 92119\"\r\n",
      "\n",
      "\"Cole, Steven\",\"489 Roger Terrace\n",
      "Davisfort, WV 30957\"\r\n",
      "\"Stephens, Richard\",\"40046 Wallace Summit\n",
      "Michaelborough, PA 11676\"\r\n",
      "\"Johnson, Laura\",\"83216 Campbell Dale Apt. 816\n",
      "Figueroaview, LA 58482\"\r\n",
      "\"Watson, Courtney\",\"6972 Gomez Mountains\n",
      "Robinsonfort, UT 66242\"\r\n",
      "\"Flores, Denise\",\"70930 Ruiz Branch Apt. 160\n",
      "Blaketown, KY 84436\"\r\n",
      "\"Lyons, Jessica\",\"16756 Mark Rue Suite 272\n",
      "Davidburgh, NV 46267\"\r\n",
      "\"Clarke, Paul\",\"337 Brenda Causeway Suite 031\n",
      "West Brian, SC 89301\"\r\n",
      "\"Thompson, Cheryl\",\"6708 Carpenter Overpass Suite 735\n",
      "Bobbyton, GA 46350\"\r\n",
      "\"Smith, Diamond\",\"396 Shawn Junction Apt. 915\n",
      "Amandamouth, KS 04279\"\r\n",
      "\"Boyd, James\",\"34448 Scott Key Apt. 048\n",
      "North Stevenmouth, AR 54518\"\r\n",
      "\n"
     ]
    }
   ],
   "source": [
    "Faker.seed(0)\n",
    "for i in range(5):\n",
    "    print(fake.dsv(dialect='excel', data_columns=('{{last_name}}, {{first_name}}', '{{address}}')))"
   ]
  },
  {
   "cell_type": "code",
   "execution_count": 12,
   "id": "d28a44ef",
   "metadata": {},
   "outputs": [
    {
     "data": {
      "text/plain": [
       "0.3721667741980953"
      ]
     },
     "execution_count": 12,
     "metadata": {},
     "output_type": "execute_result"
    }
   ],
   "source": [
    "random.random()"
   ]
  },
  {
   "cell_type": "code",
   "execution_count": 14,
   "id": "8bc682fb",
   "metadata": {},
   "outputs": [
    {
     "ename": "AttributeError",
     "evalue": "module 'numpy.random' has no attribute 'intiger'",
     "output_type": "error",
     "traceback": [
      "\u001b[1;31m---------------------------------------------------------------------------\u001b[0m",
      "\u001b[1;31mAttributeError\u001b[0m                            Traceback (most recent call last)",
      "\u001b[1;32m~\\AppData\\Local\\Temp/ipykernel_8856/3563356701.py\u001b[0m in \u001b[0;36m<module>\u001b[1;34m\u001b[0m\n\u001b[1;32m----> 1\u001b[1;33m \u001b[0mrandom\u001b[0m\u001b[1;33m.\u001b[0m\u001b[0mintiger\u001b[0m\u001b[1;33m(\u001b[0m\u001b[1;33m)\u001b[0m\u001b[1;33m\u001b[0m\u001b[1;33m\u001b[0m\u001b[0m\n\u001b[0m",
      "\u001b[1;31mAttributeError\u001b[0m: module 'numpy.random' has no attribute 'intiger'"
     ]
    }
   ],
   "source": [
    "random.intiger()"
   ]
  },
  {
   "cell_type": "raw",
   "id": "fe1e3a2b",
   "metadata": {},
   "source": [
    "rng =np.random.default_rng()\n",
    "rng.random()"
   ]
  },
  {
   "cell_type": "code",
   "execution_count": 3,
   "id": "01eac616",
   "metadata": {},
   "outputs": [
    {
     "name": "stdout",
     "output_type": "stream",
     "text": [
      "0\n"
     ]
    }
   ],
   "source": [
    "print(np.random.randint(0,1))"
   ]
  },
  {
   "cell_type": "code",
   "execution_count": 5,
   "id": "016f151f",
   "metadata": {},
   "outputs": [
    {
     "data": {
      "text/plain": [
       "'tcook@hotmail.com'"
      ]
     },
     "execution_count": 5,
     "metadata": {},
     "output_type": "execute_result"
    }
   ],
   "source": [
    "fake.ascii_email()"
   ]
  },
  {
   "cell_type": "code",
   "execution_count": 9,
   "id": "c5b62aba",
   "metadata": {},
   "outputs": [
    {
     "data": {
      "text/plain": [
       "[{'student_name': 'Mason, Bobby',\n",
       "  'student_email': 'mullinscarly@hotmail.com',\n",
       "  'parent_name': 'Mason, Tyler',\n",
       "  'parent_email': 'xmoody@hotmail.com',\n",
       "  'private_teacher': 'None Listed',\n",
       "  'instrument': 'Soprano'},\n",
       " {'student_name': 'Erickson, Morgan',\n",
       "  'student_email': 'torressandra@wilson.info',\n",
       "  'parent_name': 'Erickson, Andrew',\n",
       "  'parent_email': 'pooletanya@hotmail.com',\n",
       "  'private_teacher': 'Wrestler',\n",
       "  'instrument': 'Tenor'}]"
      ]
     },
     "execution_count": 9,
     "metadata": {},
     "output_type": "execute_result"
    }
   ],
   "source": [
    "# create empty list for student entries\n",
    "data = []\n",
    "# create dictionary private teachers, us numpy random to assign an int, then map that int to a private teacher\n",
    "teachers = {0: \"None Listed\",\n",
    "            1: \"Wrestler\",\n",
    "           2: \"Bucket\"}\n",
    "# create dictionary instruments, us numpy random to assign an int, then map that int to an instrument\n",
    "instruments = {0: \"\",\n",
    "              1: \"Soprano\",\n",
    "              2: \"Alto\",\n",
    "              3: \"Tenor\",\n",
    "              4: \"Baritone\"}\n",
    "for i in range(2):\n",
    "    student = {}\n",
    "    last_name = fake.last_name()\n",
    "    student_fn = fake.first_name()\n",
    "    parent_fn = fake.first_name()\n",
    "    student_email = fake.ascii_email()\n",
    "    parent_email = fake.ascii_email()\n",
    "    inst_num = np.random.randint(0,4)\n",
    "    teacher_num = np.random.randint(0,2)\n",
    "    student['student_name'] = f'{last_name}, {student_fn}'\n",
    "    student['student_email'] = student_email\n",
    "    student['parent_name'] = f'{last_name}, {parent_fn}'\n",
    "    student['parent_email'] = parent_email\n",
    "    student['private_teacher'] = teachers[teacher_num]\n",
    "    student['instrument'] = instruments[inst_num]\n",
    "    data.append(student)\n",
    "\n",
    "data\n",
    "    \n",
    "    "
   ]
  },
  {
   "cell_type": "code",
   "execution_count": 13,
   "id": "a6e0ca25",
   "metadata": {},
   "outputs": [
    {
     "data": {
      "text/html": [
       "<div>\n",
       "<style scoped>\n",
       "    .dataframe tbody tr th:only-of-type {\n",
       "        vertical-align: middle;\n",
       "    }\n",
       "\n",
       "    .dataframe tbody tr th {\n",
       "        vertical-align: top;\n",
       "    }\n",
       "\n",
       "    .dataframe thead th {\n",
       "        text-align: right;\n",
       "    }\n",
       "</style>\n",
       "<table border=\"1\" class=\"dataframe\">\n",
       "  <thead>\n",
       "    <tr style=\"text-align: right;\">\n",
       "      <th></th>\n",
       "      <th>student_name</th>\n",
       "      <th>student_email</th>\n",
       "      <th>parent_name</th>\n",
       "      <th>parent_email</th>\n",
       "      <th>private_teacher</th>\n",
       "      <th>instrument</th>\n",
       "    </tr>\n",
       "  </thead>\n",
       "  <tbody>\n",
       "    <tr>\n",
       "      <th>0</th>\n",
       "      <td>Mason, Bobby</td>\n",
       "      <td>mullinscarly@hotmail.com</td>\n",
       "      <td>Mason, Tyler</td>\n",
       "      <td>xmoody@hotmail.com</td>\n",
       "      <td>None Listed</td>\n",
       "      <td>Soprano</td>\n",
       "    </tr>\n",
       "    <tr>\n",
       "      <th>1</th>\n",
       "      <td>Erickson, Morgan</td>\n",
       "      <td>torressandra@wilson.info</td>\n",
       "      <td>Erickson, Andrew</td>\n",
       "      <td>pooletanya@hotmail.com</td>\n",
       "      <td>Wrestler</td>\n",
       "      <td>Tenor</td>\n",
       "    </tr>\n",
       "  </tbody>\n",
       "</table>\n",
       "</div>"
      ],
      "text/plain": [
       "       student_name             student_email       parent_name  \\\n",
       "0      Mason, Bobby  mullinscarly@hotmail.com      Mason, Tyler   \n",
       "1  Erickson, Morgan  torressandra@wilson.info  Erickson, Andrew   \n",
       "\n",
       "             parent_email private_teacher instrument  \n",
       "0      xmoody@hotmail.com     None Listed    Soprano  \n",
       "1  pooletanya@hotmail.com        Wrestler      Tenor  "
      ]
     },
     "execution_count": 13,
     "metadata": {},
     "output_type": "execute_result"
    }
   ],
   "source": [
    "student_df = pd.DataFrame(data)\n",
    "student_df"
   ]
  },
  {
   "cell_type": "code",
   "execution_count": null,
   "id": "0a30eb2f",
   "metadata": {},
   "outputs": [],
   "source": []
  }
 ],
 "metadata": {
  "kernelspec": {
   "display_name": "Python 3 (ipykernel)",
   "language": "python",
   "name": "python3"
  },
  "language_info": {
   "codemirror_mode": {
    "name": "ipython",
    "version": 3
   },
   "file_extension": ".py",
   "mimetype": "text/x-python",
   "name": "python",
   "nbconvert_exporter": "python",
   "pygments_lexer": "ipython3",
   "version": "3.9.7"
  }
 },
 "nbformat": 4,
 "nbformat_minor": 5
}
